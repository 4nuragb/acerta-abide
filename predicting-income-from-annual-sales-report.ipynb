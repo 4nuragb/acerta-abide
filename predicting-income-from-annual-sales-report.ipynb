{
 "cells": [
  {
   "cell_type": "code",
   "execution_count": 1,
   "id": "5f85f50f",
   "metadata": {
    "_cell_guid": "b1076dfc-b9ad-4769-8c92-a6c4dae69d19",
    "_uuid": "8f2839f25d086af736a60e9eeb907d3b93b6e0e5",
    "execution": {
     "iopub.execute_input": "2022-10-06T14:35:36.696080Z",
     "iopub.status.busy": "2022-10-06T14:35:36.695093Z",
     "iopub.status.idle": "2022-10-06T14:35:36.702857Z",
     "shell.execute_reply": "2022-10-06T14:35:36.701694Z"
    },
    "papermill": {
     "duration": 0.017226,
     "end_time": "2022-10-06T14:35:36.705656",
     "exception": false,
     "start_time": "2022-10-06T14:35:36.688430",
     "status": "completed"
    },
    "tags": []
   },
   "outputs": [],
   "source": [
    "# # This Python 3 environment comes with many helpful analytics libraries installed\n",
    "# # It is defined by the kaggle/python Docker image: https://github.com/kaggle/docker-python\n",
    "# # For example, here's several helpful packages to load\n",
    "\n",
    "# import numpy as np # linear algebra\n",
    "# import pandas as pd # data processing, CSV file I/O (e.g. pd.read_csv)\n",
    "\n",
    "# # Input data files are available in the read-only \"../input/\" directory\n",
    "# # For example, running this (by clicking run or pressing Shift+Enter) will list all files under the input directory\n",
    "\n",
    "# import os\n",
    "# for dirname, _, filenames in os.walk('/kaggle/input'):\n",
    "#     for filename in filenames:\n",
    "#         print(os.path.join(dirname, filename))\n",
    "\n",
    "# # You can write up to 20GB to the current directory (/kaggle/working/) that gets preserved as output when you create a version using \"Save & Run All\" \n",
    "# # You can also write temporary files to /kaggle/temp/, but they won't be saved outside of the current session"
   ]
  },
  {
   "cell_type": "code",
   "execution_count": 2,
   "id": "641ad9df",
   "metadata": {
    "execution": {
     "iopub.execute_input": "2022-10-06T14:35:36.714311Z",
     "iopub.status.busy": "2022-10-06T14:35:36.713531Z",
     "iopub.status.idle": "2022-10-06T14:35:36.997473Z",
     "shell.execute_reply": "2022-10-06T14:35:36.996342Z"
    },
    "papermill": {
     "duration": 0.291214,
     "end_time": "2022-10-06T14:35:37.000274",
     "exception": false,
     "start_time": "2022-10-06T14:35:36.709060",
     "status": "completed"
    },
    "tags": []
   },
   "outputs": [
    {
     "data": {
      "text/html": [
       "<div>\n",
       "<style scoped>\n",
       "    .dataframe tbody tr th:only-of-type {\n",
       "        vertical-align: middle;\n",
       "    }\n",
       "\n",
       "    .dataframe tbody tr th {\n",
       "        vertical-align: top;\n",
       "    }\n",
       "\n",
       "    .dataframe thead th {\n",
       "        text-align: right;\n",
       "    }\n",
       "</style>\n",
       "<table border=\"1\" class=\"dataframe\">\n",
       "  <thead>\n",
       "    <tr style=\"text-align: right;\">\n",
       "      <th></th>\n",
       "      <th>income</th>\n",
       "      <th>age</th>\n",
       "      <th>education_level</th>\n",
       "    </tr>\n",
       "  </thead>\n",
       "  <tbody>\n",
       "    <tr>\n",
       "      <th>3582</th>\n",
       "      <td>57968.043869</td>\n",
       "      <td>59</td>\n",
       "      <td>3.0</td>\n",
       "    </tr>\n",
       "    <tr>\n",
       "      <th>60498</th>\n",
       "      <td>37335.842103</td>\n",
       "      <td>33</td>\n",
       "      <td>2.0</td>\n",
       "    </tr>\n",
       "    <tr>\n",
       "      <th>53227</th>\n",
       "      <td>39173.684957</td>\n",
       "      <td>35</td>\n",
       "      <td>2.0</td>\n",
       "    </tr>\n",
       "    <tr>\n",
       "      <th>21333</th>\n",
       "      <td>47959.729368</td>\n",
       "      <td>19</td>\n",
       "      <td>2.0</td>\n",
       "    </tr>\n",
       "    <tr>\n",
       "      <th>3885</th>\n",
       "      <td>57611.690525</td>\n",
       "      <td>44</td>\n",
       "      <td>2.0</td>\n",
       "    </tr>\n",
       "  </tbody>\n",
       "</table>\n",
       "</div>"
      ],
      "text/plain": [
       "             income  age  education_level\n",
       "3582   57968.043869   59              3.0\n",
       "60498  37335.842103   33              2.0\n",
       "53227  39173.684957   35              2.0\n",
       "21333  47959.729368   19              2.0\n",
       "3885   57611.690525   44              2.0"
      ]
     },
     "metadata": {},
     "output_type": "display_data"
    },
    {
     "data": {
      "text/plain": [
       "(90000, 3)"
      ]
     },
     "metadata": {},
     "output_type": "display_data"
    }
   ],
   "source": [
    "import numpy as np\n",
    "import pandas as pd\n",
    "from IPython.display import display\n",
    "dataset=pd.read_csv('../input/anual-salary-reports-survey/salary_data.csv',sep=';')\n",
    "dataset=pd.DataFrame(dataset)\n",
    "dataset=dataset.drop('gender',axis=1)\n",
    "dataset=dataset.drop('ID',axis=1)\n",
    "# dataset['gender'].replace([0,1],{'F','M'},inplace=True)\n",
    "df_train=dataset.sample(frac=0.9,random_state=0)\n",
    "df_test=dataset.drop(df_train.index)\n",
    "display(df_train.head(5))\n",
    "display(df_train.shape)"
   ]
  },
  {
   "cell_type": "code",
   "execution_count": 3,
   "id": "7fc3e098",
   "metadata": {
    "execution": {
     "iopub.execute_input": "2022-10-06T14:35:37.008634Z",
     "iopub.status.busy": "2022-10-06T14:35:37.008240Z",
     "iopub.status.idle": "2022-10-06T14:35:37.013323Z",
     "shell.execute_reply": "2022-10-06T14:35:37.012475Z"
    },
    "papermill": {
     "duration": 0.011785,
     "end_time": "2022-10-06T14:35:37.015523",
     "exception": false,
     "start_time": "2022-10-06T14:35:37.003738",
     "status": "completed"
    },
    "tags": []
   },
   "outputs": [],
   "source": [
    "def NormalizeData(data):\n",
    "    return (data-np.min(data))/(np.max(data)-np.min(data))"
   ]
  },
  {
   "cell_type": "code",
   "execution_count": 4,
   "id": "0f1f9f3e",
   "metadata": {
    "execution": {
     "iopub.execute_input": "2022-10-06T14:35:37.024788Z",
     "iopub.status.busy": "2022-10-06T14:35:37.024036Z",
     "iopub.status.idle": "2022-10-06T14:35:37.041444Z",
     "shell.execute_reply": "2022-10-06T14:35:37.040480Z"
    },
    "papermill": {
     "duration": 0.025153,
     "end_time": "2022-10-06T14:35:37.044381",
     "exception": false,
     "start_time": "2022-10-06T14:35:37.019228",
     "status": "completed"
    },
    "tags": []
   },
   "outputs": [],
   "source": [
    "df_train=NormalizeData(df_train)\n",
    "df_test=NormalizeData(df_test)"
   ]
  },
  {
   "cell_type": "code",
   "execution_count": 5,
   "id": "dc21a9d9",
   "metadata": {
    "execution": {
     "iopub.execute_input": "2022-10-06T14:35:37.052917Z",
     "iopub.status.busy": "2022-10-06T14:35:37.052485Z",
     "iopub.status.idle": "2022-10-06T14:35:37.066490Z",
     "shell.execute_reply": "2022-10-06T14:35:37.065096Z"
    },
    "papermill": {
     "duration": 0.021431,
     "end_time": "2022-10-06T14:35:37.069316",
     "exception": false,
     "start_time": "2022-10-06T14:35:37.047885",
     "status": "completed"
    },
    "tags": []
   },
   "outputs": [],
   "source": [
    "x_train=df_train.drop('income',axis=1)\n",
    "x_test=df_test.drop('income',axis=1)\n",
    "y_train=df_train['income']\n",
    "y_test=df_test['income']"
   ]
  },
  {
   "cell_type": "code",
   "execution_count": 6,
   "id": "698cd7d8",
   "metadata": {
    "execution": {
     "iopub.execute_input": "2022-10-06T14:35:37.078035Z",
     "iopub.status.busy": "2022-10-06T14:35:37.077572Z",
     "iopub.status.idle": "2022-10-06T14:35:44.078295Z",
     "shell.execute_reply": "2022-10-06T14:35:44.077331Z"
    },
    "papermill": {
     "duration": 7.007679,
     "end_time": "2022-10-06T14:35:44.080561",
     "exception": false,
     "start_time": "2022-10-06T14:35:37.072882",
     "status": "completed"
    },
    "tags": []
   },
   "outputs": [
    {
     "name": "stderr",
     "output_type": "stream",
     "text": [
      "2022-10-06 14:35:43.823147: I tensorflow/core/common_runtime/process_util.cc:146] Creating new thread pool with default inter op setting: 2. Tune using inter_op_parallelism_threads for best performance.\n"
     ]
    }
   ],
   "source": [
    "from tensorflow import keras\n",
    "from tensorflow.keras import layers \n",
    "\n",
    "model=keras.Sequential(\n",
    "    [\n",
    "        layers.Dense(2,activation='relu',input_shape=[2]),\n",
    "        layers.Dense(2,activation='relu'),\n",
    "        layers.Dense(1)\n",
    "    ]\n",
    ")\n",
    "\n",
    "model.compile(\n",
    "    optimizer='adam',\n",
    "    loss='mae',\n",
    ")"
   ]
  },
  {
   "cell_type": "code",
   "execution_count": 7,
   "id": "d436d4b9",
   "metadata": {
    "execution": {
     "iopub.execute_input": "2022-10-06T14:35:44.089960Z",
     "iopub.status.busy": "2022-10-06T14:35:44.089252Z",
     "iopub.status.idle": "2022-10-06T14:38:30.379220Z",
     "shell.execute_reply": "2022-10-06T14:38:30.378168Z"
    },
    "papermill": {
     "duration": 166.297536,
     "end_time": "2022-10-06T14:38:30.382106",
     "exception": false,
     "start_time": "2022-10-06T14:35:44.084570",
     "status": "completed"
    },
    "tags": []
   },
   "outputs": [
    {
     "name": "stderr",
     "output_type": "stream",
     "text": [
      "2022-10-06 14:35:44.183691: I tensorflow/compiler/mlir/mlir_graph_optimization_pass.cc:185] None of the MLIR Optimization Passes are enabled (registered 2)\n"
     ]
    },
    {
     "name": "stdout",
     "output_type": "stream",
     "text": [
      "Epoch 1/100\n",
      "900/900 [==============================] - 2s 2ms/step - loss: 0.0482 - val_loss: 0.0527\n",
      "Epoch 2/100\n",
      "900/900 [==============================] - 2s 2ms/step - loss: 0.0458 - val_loss: 0.0504\n",
      "Epoch 3/100\n",
      "900/900 [==============================] - 2s 2ms/step - loss: 0.0458 - val_loss: 0.0492\n",
      "Epoch 4/100\n",
      "900/900 [==============================] - 2s 2ms/step - loss: 0.0458 - val_loss: 0.0534\n",
      "Epoch 5/100\n",
      "900/900 [==============================] - 2s 2ms/step - loss: 0.0458 - val_loss: 0.0483\n",
      "Epoch 6/100\n",
      "900/900 [==============================] - 2s 2ms/step - loss: 0.0458 - val_loss: 0.0478\n",
      "Epoch 7/100\n",
      "900/900 [==============================] - 2s 2ms/step - loss: 0.0458 - val_loss: 0.0500\n",
      "Epoch 8/100\n",
      "900/900 [==============================] - 2s 2ms/step - loss: 0.0458 - val_loss: 0.0524\n",
      "Epoch 9/100\n",
      "900/900 [==============================] - 2s 2ms/step - loss: 0.0458 - val_loss: 0.0485\n",
      "Epoch 10/100\n",
      "900/900 [==============================] - 2s 2ms/step - loss: 0.0458 - val_loss: 0.0554\n",
      "Epoch 11/100\n",
      "900/900 [==============================] - 2s 2ms/step - loss: 0.0458 - val_loss: 0.0509\n",
      "Epoch 12/100\n",
      "900/900 [==============================] - 2s 2ms/step - loss: 0.0458 - val_loss: 0.0490\n",
      "Epoch 13/100\n",
      "900/900 [==============================] - 2s 2ms/step - loss: 0.0458 - val_loss: 0.0506\n",
      "Epoch 14/100\n",
      "900/900 [==============================] - 2s 2ms/step - loss: 0.0458 - val_loss: 0.0543\n",
      "Epoch 15/100\n",
      "900/900 [==============================] - 2s 2ms/step - loss: 0.0458 - val_loss: 0.0494\n",
      "Epoch 16/100\n",
      "900/900 [==============================] - 2s 2ms/step - loss: 0.0458 - val_loss: 0.0533\n",
      "Epoch 17/100\n",
      "900/900 [==============================] - 2s 2ms/step - loss: 0.0458 - val_loss: 0.0518\n",
      "Epoch 18/100\n",
      "900/900 [==============================] - 2s 2ms/step - loss: 0.0458 - val_loss: 0.0516\n",
      "Epoch 19/100\n",
      "900/900 [==============================] - 2s 2ms/step - loss: 0.0458 - val_loss: 0.0520\n",
      "Epoch 20/100\n",
      "900/900 [==============================] - 2s 2ms/step - loss: 0.0458 - val_loss: 0.0581\n",
      "Epoch 21/100\n",
      "900/900 [==============================] - 2s 2ms/step - loss: 0.0458 - val_loss: 0.0546\n",
      "Epoch 22/100\n",
      "900/900 [==============================] - 2s 2ms/step - loss: 0.0458 - val_loss: 0.0506\n",
      "Epoch 23/100\n",
      "900/900 [==============================] - 2s 2ms/step - loss: 0.0458 - val_loss: 0.0521\n",
      "Epoch 24/100\n",
      "900/900 [==============================] - 2s 2ms/step - loss: 0.0458 - val_loss: 0.0501\n",
      "Epoch 25/100\n",
      "900/900 [==============================] - 2s 2ms/step - loss: 0.0458 - val_loss: 0.0515\n",
      "Epoch 26/100\n",
      "900/900 [==============================] - 2s 2ms/step - loss: 0.0458 - val_loss: 0.0520\n",
      "Epoch 27/100\n",
      "900/900 [==============================] - 2s 2ms/step - loss: 0.0458 - val_loss: 0.0515\n",
      "Epoch 28/100\n",
      "900/900 [==============================] - 2s 2ms/step - loss: 0.0458 - val_loss: 0.0473\n",
      "Epoch 29/100\n",
      "900/900 [==============================] - 2s 2ms/step - loss: 0.0458 - val_loss: 0.0526\n",
      "Epoch 30/100\n",
      "900/900 [==============================] - 2s 2ms/step - loss: 0.0458 - val_loss: 0.0551\n",
      "Epoch 31/100\n",
      "900/900 [==============================] - 2s 2ms/step - loss: 0.0458 - val_loss: 0.0524\n",
      "Epoch 32/100\n",
      "900/900 [==============================] - 2s 2ms/step - loss: 0.0458 - val_loss: 0.0498\n",
      "Epoch 33/100\n",
      "900/900 [==============================] - 2s 2ms/step - loss: 0.0458 - val_loss: 0.0496\n",
      "Epoch 34/100\n",
      "900/900 [==============================] - 2s 2ms/step - loss: 0.0458 - val_loss: 0.0485\n",
      "Epoch 35/100\n",
      "900/900 [==============================] - 2s 2ms/step - loss: 0.0458 - val_loss: 0.0491\n",
      "Epoch 36/100\n",
      "900/900 [==============================] - 2s 2ms/step - loss: 0.0458 - val_loss: 0.0533\n",
      "Epoch 37/100\n",
      "900/900 [==============================] - 2s 2ms/step - loss: 0.0458 - val_loss: 0.0509\n",
      "Epoch 38/100\n",
      "900/900 [==============================] - 2s 2ms/step - loss: 0.0458 - val_loss: 0.0524\n",
      "Epoch 39/100\n",
      "900/900 [==============================] - 2s 2ms/step - loss: 0.0458 - val_loss: 0.0498\n",
      "Epoch 40/100\n",
      "900/900 [==============================] - 2s 2ms/step - loss: 0.0458 - val_loss: 0.0505\n",
      "Epoch 41/100\n",
      "900/900 [==============================] - 2s 2ms/step - loss: 0.0458 - val_loss: 0.0514\n",
      "Epoch 42/100\n",
      "900/900 [==============================] - 2s 2ms/step - loss: 0.0458 - val_loss: 0.0486\n",
      "Epoch 43/100\n",
      "900/900 [==============================] - 2s 2ms/step - loss: 0.0458 - val_loss: 0.0521\n",
      "Epoch 44/100\n",
      "900/900 [==============================] - 2s 2ms/step - loss: 0.0458 - val_loss: 0.0515\n",
      "Epoch 45/100\n",
      "900/900 [==============================] - 2s 2ms/step - loss: 0.0458 - val_loss: 0.0562\n",
      "Epoch 46/100\n",
      "900/900 [==============================] - 2s 2ms/step - loss: 0.0458 - val_loss: 0.0500\n",
      "Epoch 47/100\n",
      "900/900 [==============================] - 2s 2ms/step - loss: 0.0458 - val_loss: 0.0491\n",
      "Epoch 48/100\n",
      "900/900 [==============================] - 2s 2ms/step - loss: 0.0458 - val_loss: 0.0522\n",
      "Epoch 49/100\n",
      "900/900 [==============================] - 2s 2ms/step - loss: 0.0458 - val_loss: 0.0482\n",
      "Epoch 50/100\n",
      "900/900 [==============================] - 2s 2ms/step - loss: 0.0458 - val_loss: 0.0496\n",
      "Epoch 51/100\n",
      "900/900 [==============================] - 2s 2ms/step - loss: 0.0458 - val_loss: 0.0498\n",
      "Epoch 52/100\n",
      "900/900 [==============================] - 2s 2ms/step - loss: 0.0458 - val_loss: 0.0526\n",
      "Epoch 53/100\n",
      "900/900 [==============================] - 2s 2ms/step - loss: 0.0458 - val_loss: 0.0488\n",
      "Epoch 54/100\n",
      "900/900 [==============================] - 2s 2ms/step - loss: 0.0458 - val_loss: 0.0518\n",
      "Epoch 55/100\n",
      "900/900 [==============================] - 2s 2ms/step - loss: 0.0458 - val_loss: 0.0519\n",
      "Epoch 56/100\n",
      "900/900 [==============================] - 2s 2ms/step - loss: 0.0458 - val_loss: 0.0508\n",
      "Epoch 57/100\n",
      "900/900 [==============================] - 2s 2ms/step - loss: 0.0458 - val_loss: 0.0503\n",
      "Epoch 58/100\n",
      "900/900 [==============================] - 2s 2ms/step - loss: 0.0458 - val_loss: 0.0521\n",
      "Epoch 59/100\n",
      "900/900 [==============================] - 2s 2ms/step - loss: 0.0458 - val_loss: 0.0490\n",
      "Epoch 60/100\n",
      "900/900 [==============================] - 2s 2ms/step - loss: 0.0458 - val_loss: 0.0513\n",
      "Epoch 61/100\n",
      "900/900 [==============================] - 2s 2ms/step - loss: 0.0458 - val_loss: 0.0510\n",
      "Epoch 62/100\n",
      "900/900 [==============================] - 2s 2ms/step - loss: 0.0458 - val_loss: 0.0540\n",
      "Epoch 63/100\n",
      "900/900 [==============================] - 2s 2ms/step - loss: 0.0458 - val_loss: 0.0495\n",
      "Epoch 64/100\n",
      "900/900 [==============================] - 2s 2ms/step - loss: 0.0458 - val_loss: 0.0479\n",
      "Epoch 65/100\n",
      "900/900 [==============================] - 2s 2ms/step - loss: 0.0458 - val_loss: 0.0512\n",
      "Epoch 66/100\n",
      "900/900 [==============================] - 2s 2ms/step - loss: 0.0458 - val_loss: 0.0527\n",
      "Epoch 67/100\n",
      "900/900 [==============================] - 2s 2ms/step - loss: 0.0458 - val_loss: 0.0491\n",
      "Epoch 68/100\n",
      "900/900 [==============================] - 2s 2ms/step - loss: 0.0458 - val_loss: 0.0509\n",
      "Epoch 69/100\n",
      "900/900 [==============================] - 2s 2ms/step - loss: 0.0458 - val_loss: 0.0502\n",
      "Epoch 70/100\n",
      "900/900 [==============================] - 2s 2ms/step - loss: 0.0458 - val_loss: 0.0525\n",
      "Epoch 71/100\n",
      "900/900 [==============================] - 2s 2ms/step - loss: 0.0458 - val_loss: 0.0504\n",
      "Epoch 72/100\n",
      "900/900 [==============================] - 2s 2ms/step - loss: 0.0458 - val_loss: 0.0496\n",
      "Epoch 73/100\n",
      "900/900 [==============================] - 2s 2ms/step - loss: 0.0458 - val_loss: 0.0532\n",
      "Epoch 74/100\n",
      "900/900 [==============================] - 2s 2ms/step - loss: 0.0458 - val_loss: 0.0538\n",
      "Epoch 75/100\n",
      "900/900 [==============================] - 2s 2ms/step - loss: 0.0458 - val_loss: 0.0504\n",
      "Epoch 76/100\n",
      "900/900 [==============================] - 2s 2ms/step - loss: 0.0458 - val_loss: 0.0505\n",
      "Epoch 77/100\n",
      "900/900 [==============================] - 2s 2ms/step - loss: 0.0458 - val_loss: 0.0518\n",
      "Epoch 78/100\n",
      "900/900 [==============================] - 2s 2ms/step - loss: 0.0458 - val_loss: 0.0474\n",
      "Epoch 79/100\n",
      "900/900 [==============================] - 2s 2ms/step - loss: 0.0458 - val_loss: 0.0522\n",
      "Epoch 80/100\n",
      "900/900 [==============================] - 2s 2ms/step - loss: 0.0458 - val_loss: 0.0529\n",
      "Epoch 81/100\n",
      "900/900 [==============================] - 2s 2ms/step - loss: 0.0458 - val_loss: 0.0496\n",
      "Epoch 82/100\n",
      "900/900 [==============================] - 2s 2ms/step - loss: 0.0458 - val_loss: 0.0527\n",
      "Epoch 83/100\n",
      "900/900 [==============================] - 2s 2ms/step - loss: 0.0458 - val_loss: 0.0499\n",
      "Epoch 84/100\n",
      "900/900 [==============================] - 2s 2ms/step - loss: 0.0458 - val_loss: 0.0540\n",
      "Epoch 85/100\n",
      "900/900 [==============================] - 2s 2ms/step - loss: 0.0458 - val_loss: 0.0503\n",
      "Epoch 86/100\n",
      "900/900 [==============================] - 2s 2ms/step - loss: 0.0458 - val_loss: 0.0512\n",
      "Epoch 87/100\n",
      "900/900 [==============================] - 2s 2ms/step - loss: 0.0458 - val_loss: 0.0508\n",
      "Epoch 88/100\n",
      "900/900 [==============================] - 2s 2ms/step - loss: 0.0458 - val_loss: 0.0531\n",
      "Epoch 89/100\n",
      "900/900 [==============================] - 2s 2ms/step - loss: 0.0458 - val_loss: 0.0482\n",
      "Epoch 90/100\n",
      "900/900 [==============================] - 2s 2ms/step - loss: 0.0458 - val_loss: 0.0502\n",
      "Epoch 91/100\n",
      "900/900 [==============================] - 2s 2ms/step - loss: 0.0458 - val_loss: 0.0498\n",
      "Epoch 92/100\n",
      "900/900 [==============================] - 2s 2ms/step - loss: 0.0458 - val_loss: 0.0538\n",
      "Epoch 93/100\n",
      "900/900 [==============================] - 2s 2ms/step - loss: 0.0458 - val_loss: 0.0511\n",
      "Epoch 94/100\n",
      "900/900 [==============================] - 2s 2ms/step - loss: 0.0458 - val_loss: 0.0520\n",
      "Epoch 95/100\n",
      "900/900 [==============================] - 2s 2ms/step - loss: 0.0458 - val_loss: 0.0485\n",
      "Epoch 96/100\n",
      "900/900 [==============================] - 2s 2ms/step - loss: 0.0458 - val_loss: 0.0528\n",
      "Epoch 97/100\n",
      "900/900 [==============================] - 2s 2ms/step - loss: 0.0458 - val_loss: 0.0522\n",
      "Epoch 98/100\n",
      "900/900 [==============================] - 2s 2ms/step - loss: 0.0458 - val_loss: 0.0518\n",
      "Epoch 99/100\n",
      "900/900 [==============================] - 2s 2ms/step - loss: 0.0458 - val_loss: 0.0500\n",
      "Epoch 100/100\n",
      "900/900 [==============================] - 2s 2ms/step - loss: 0.0458 - val_loss: 0.0519\n"
     ]
    }
   ],
   "source": [
    "history=model.fit(\n",
    "    x_train,y_train,validation_data=(x_test,y_test), batch_size=100, epochs=100,\n",
    ")"
   ]
  },
  {
   "cell_type": "code",
   "execution_count": 8,
   "id": "841f75d3",
   "metadata": {
    "execution": {
     "iopub.execute_input": "2022-10-06T14:38:30.772826Z",
     "iopub.status.busy": "2022-10-06T14:38:30.771744Z",
     "iopub.status.idle": "2022-10-06T14:38:31.030217Z",
     "shell.execute_reply": "2022-10-06T14:38:31.029110Z"
    },
    "papermill": {
     "duration": 0.455989,
     "end_time": "2022-10-06T14:38:31.032944",
     "exception": false,
     "start_time": "2022-10-06T14:38:30.576955",
     "status": "completed"
    },
    "tags": []
   },
   "outputs": [
    {
     "data": {
      "text/plain": [
       "<AxesSubplot:>"
      ]
     },
     "execution_count": 8,
     "metadata": {},
     "output_type": "execute_result"
    },
    {
     "data": {
      "image/png": "[encoded data removed]",
      "text/plain": [
       "<Figure size 432x288 with 1 Axes>"
      ]
     },
     "metadata": {
      "needs_background": "light"
     },
     "output_type": "display_data"
    }
   ],
   "source": [
    "hdf=pd.DataFrame(history.history)\n",
    "hdf.loc[5:,['loss','val_loss']].plot()"
   ]
  },
  {
   "cell_type": "code",
   "execution_count": 9,
   "id": "6d9dd38b",
   "metadata": {
    "execution": {
     "iopub.execute_input": "2022-10-06T14:38:31.420882Z",
     "iopub.status.busy": "2022-10-06T14:38:31.420456Z",
     "iopub.status.idle": "2022-10-06T14:38:31.426196Z",
     "shell.execute_reply": "2022-10-06T14:38:31.425395Z"
    },
    "papermill": {
     "duration": 0.203541,
     "end_time": "2022-10-06T14:38:31.429376",
     "exception": false,
     "start_time": "2022-10-06T14:38:31.225835",
     "status": "completed"
    },
    "tags": []
   },
   "outputs": [
    {
     "name": "stdout",
     "output_type": "stream",
     "text": [
      "Min validation loss: 0.04725540801882744\n"
     ]
    }
   ],
   "source": [
    "print(\"Min validation loss: {}\".format(hdf['val_loss'].min()))"
   ]
  }
 ],
 "metadata": {
  "kernelspec": {
   "display_name": "Python 3",
   "language": "python",
   "name": "python3"
  },
  "language_info": {
   "codemirror_mode": {
    "name": "ipython",
    "version": 3
   },
   "file_extension": ".py",
   "mimetype": "text/x-python",
   "name": "python",
   "nbconvert_exporter": "python",
   "pygments_lexer": "ipython3",
   "version": "3.7.12"
  },
  "papermill": {
   "default_parameters": {},
   "duration": 187.219803,
   "end_time": "2022-10-06T14:38:35.178941",
   "environment_variables": {},
   "exception": null,
   "input_path": "__notebook__.ipynb",
   "output_path": "__notebook__.ipynb",
   "parameters": {},
   "start_time": "2022-10-06T14:35:27.959138",
   "version": "2.3.4"
  }
 },
 "nbformat": 4,
 "nbformat_minor": 5
}
