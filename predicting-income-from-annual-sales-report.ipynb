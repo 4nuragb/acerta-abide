{
 "cells": [
  {
   "cell_type": "code",
   "execution_count": 1,
   "id": "ceebefb9",
   "metadata": {
    "execution": {
     "iopub.execute_input": "2022-10-06T17:39:11.788770Z",
     "iopub.status.busy": "2022-10-06T17:39:11.787719Z",
     "iopub.status.idle": "2022-10-06T17:39:11.956925Z",
     "shell.execute_reply": "2022-10-06T17:39:11.955785Z"
    },
    "papermill": {
     "duration": 0.178475,
     "end_time": "2022-10-06T17:39:11.959529",
     "exception": false,
     "start_time": "2022-10-06T17:39:11.781054",
     "status": "completed"
    },
    "tags": []
   },
   "outputs": [
    {
     "data": {
      "text/html": [
       "<div>\n",
       "<style scoped>\n",
       "    .dataframe tbody tr th:only-of-type {\n",
       "        vertical-align: middle;\n",
       "    }\n",
       "\n",
       "    .dataframe tbody tr th {\n",
       "        vertical-align: top;\n",
       "    }\n",
       "\n",
       "    .dataframe thead th {\n",
       "        text-align: right;\n",
       "    }\n",
       "</style>\n",
       "<table border=\"1\" class=\"dataframe\">\n",
       "  <thead>\n",
       "    <tr style=\"text-align: right;\">\n",
       "      <th></th>\n",
       "      <th>ID</th>\n",
       "      <th>income</th>\n",
       "      <th>age</th>\n",
       "      <th>gender</th>\n",
       "      <th>education_level</th>\n",
       "    </tr>\n",
       "  </thead>\n",
       "  <tbody>\n",
       "    <tr>\n",
       "      <th>0</th>\n",
       "      <td>12182</td>\n",
       "      <td>86519.608537</td>\n",
       "      <td>45</td>\n",
       "      <td>M</td>\n",
       "      <td>2.0</td>\n",
       "    </tr>\n",
       "    <tr>\n",
       "      <th>1</th>\n",
       "      <td>81213</td>\n",
       "      <td>83085.864980</td>\n",
       "      <td>30</td>\n",
       "      <td>M</td>\n",
       "      <td>2.0</td>\n",
       "    </tr>\n",
       "    <tr>\n",
       "      <th>2</th>\n",
       "      <td>1996</td>\n",
       "      <td>82606.214973</td>\n",
       "      <td>22</td>\n",
       "      <td>M</td>\n",
       "      <td>2.0</td>\n",
       "    </tr>\n",
       "    <tr>\n",
       "      <th>3</th>\n",
       "      <td>9366</td>\n",
       "      <td>81551.229988</td>\n",
       "      <td>36</td>\n",
       "      <td>M</td>\n",
       "      <td>2.0</td>\n",
       "    </tr>\n",
       "    <tr>\n",
       "      <th>4</th>\n",
       "      <td>9733</td>\n",
       "      <td>79593.253224</td>\n",
       "      <td>51</td>\n",
       "      <td>M</td>\n",
       "      <td>1.0</td>\n",
       "    </tr>\n",
       "  </tbody>\n",
       "</table>\n",
       "</div>"
      ],
      "text/plain": [
       "      ID        income  age gender  education_level\n",
       "0  12182  86519.608537   45      M              2.0\n",
       "1  81213  83085.864980   30      M              2.0\n",
       "2   1996  82606.214973   22      M              2.0\n",
       "3   9366  81551.229988   36      M              2.0\n",
       "4   9733  79593.253224   51      M              1.0"
      ]
     },
     "metadata": {},
     "output_type": "display_data"
    },
    {
     "data": {
      "text/plain": [
       "(100000, 5)"
      ]
     },
     "metadata": {},
     "output_type": "display_data"
    }
   ],
   "source": [
    "import numpy as np\n",
    "import pandas as pd\n",
    "dataset=pd.read_csv('../input/anual-salary-reports-survey/salary_data.csv',sep=';')\n",
    "display(dataset.head())\n",
    "display(dataset.shape)"
   ]
  },
  {
   "cell_type": "code",
   "execution_count": 2,
   "id": "e22607d9",
   "metadata": {
    "execution": {
     "iopub.execute_input": "2022-10-06T17:39:11.968917Z",
     "iopub.status.busy": "2022-10-06T17:39:11.967975Z",
     "iopub.status.idle": "2022-10-06T17:39:13.108409Z",
     "shell.execute_reply": "2022-10-06T17:39:13.107271Z"
    },
    "papermill": {
     "duration": 1.147409,
     "end_time": "2022-10-06T17:39:13.110943",
     "exception": false,
     "start_time": "2022-10-06T17:39:11.963534",
     "status": "completed"
    },
    "tags": []
   },
   "outputs": [
    {
     "data": {
      "text/html": [
       "<div>\n",
       "<style scoped>\n",
       "    .dataframe tbody tr th:only-of-type {\n",
       "        vertical-align: middle;\n",
       "    }\n",
       "\n",
       "    .dataframe tbody tr th {\n",
       "        vertical-align: top;\n",
       "    }\n",
       "\n",
       "    .dataframe thead th {\n",
       "        text-align: right;\n",
       "    }\n",
       "</style>\n",
       "<table border=\"1\" class=\"dataframe\">\n",
       "  <thead>\n",
       "    <tr style=\"text-align: right;\">\n",
       "      <th></th>\n",
       "      <th>income</th>\n",
       "      <th>age</th>\n",
       "      <th>education_level</th>\n",
       "      <th>Female</th>\n",
       "      <th>Male</th>\n",
       "    </tr>\n",
       "  </thead>\n",
       "  <tbody>\n",
       "    <tr>\n",
       "      <th>0</th>\n",
       "      <td>86519.608537</td>\n",
       "      <td>45</td>\n",
       "      <td>2.0</td>\n",
       "      <td>0.0</td>\n",
       "      <td>1.0</td>\n",
       "    </tr>\n",
       "    <tr>\n",
       "      <th>1</th>\n",
       "      <td>83085.864980</td>\n",
       "      <td>30</td>\n",
       "      <td>2.0</td>\n",
       "      <td>0.0</td>\n",
       "      <td>1.0</td>\n",
       "    </tr>\n",
       "    <tr>\n",
       "      <th>2</th>\n",
       "      <td>82606.214973</td>\n",
       "      <td>22</td>\n",
       "      <td>2.0</td>\n",
       "      <td>0.0</td>\n",
       "      <td>1.0</td>\n",
       "    </tr>\n",
       "    <tr>\n",
       "      <th>3</th>\n",
       "      <td>81551.229988</td>\n",
       "      <td>36</td>\n",
       "      <td>2.0</td>\n",
       "      <td>0.0</td>\n",
       "      <td>1.0</td>\n",
       "    </tr>\n",
       "    <tr>\n",
       "      <th>4</th>\n",
       "      <td>79593.253224</td>\n",
       "      <td>51</td>\n",
       "      <td>1.0</td>\n",
       "      <td>0.0</td>\n",
       "      <td>1.0</td>\n",
       "    </tr>\n",
       "    <tr>\n",
       "      <th>...</th>\n",
       "      <td>...</td>\n",
       "      <td>...</td>\n",
       "      <td>...</td>\n",
       "      <td>...</td>\n",
       "      <td>...</td>\n",
       "    </tr>\n",
       "    <tr>\n",
       "      <th>95</th>\n",
       "      <td>71141.779060</td>\n",
       "      <td>21</td>\n",
       "      <td>2.0</td>\n",
       "      <td>1.0</td>\n",
       "      <td>0.0</td>\n",
       "    </tr>\n",
       "    <tr>\n",
       "      <th>96</th>\n",
       "      <td>71087.976838</td>\n",
       "      <td>55</td>\n",
       "      <td>2.0</td>\n",
       "      <td>0.0</td>\n",
       "      <td>1.0</td>\n",
       "    </tr>\n",
       "    <tr>\n",
       "      <th>97</th>\n",
       "      <td>71076.207928</td>\n",
       "      <td>19</td>\n",
       "      <td>1.0</td>\n",
       "      <td>0.0</td>\n",
       "      <td>1.0</td>\n",
       "    </tr>\n",
       "    <tr>\n",
       "      <th>98</th>\n",
       "      <td>71039.622904</td>\n",
       "      <td>34</td>\n",
       "      <td>1.0</td>\n",
       "      <td>0.0</td>\n",
       "      <td>1.0</td>\n",
       "    </tr>\n",
       "    <tr>\n",
       "      <th>99</th>\n",
       "      <td>70949.670389</td>\n",
       "      <td>50</td>\n",
       "      <td>2.0</td>\n",
       "      <td>0.0</td>\n",
       "      <td>1.0</td>\n",
       "    </tr>\n",
       "  </tbody>\n",
       "</table>\n",
       "<p>100 rows × 5 columns</p>\n",
       "</div>"
      ],
      "text/plain": [
       "          income  age  education_level  Female  Male\n",
       "0   86519.608537   45              2.0     0.0   1.0\n",
       "1   83085.864980   30              2.0     0.0   1.0\n",
       "2   82606.214973   22              2.0     0.0   1.0\n",
       "3   81551.229988   36              2.0     0.0   1.0\n",
       "4   79593.253224   51              1.0     0.0   1.0\n",
       "..           ...  ...              ...     ...   ...\n",
       "95  71141.779060   21              2.0     1.0   0.0\n",
       "96  71087.976838   55              2.0     0.0   1.0\n",
       "97  71076.207928   19              1.0     0.0   1.0\n",
       "98  71039.622904   34              1.0     0.0   1.0\n",
       "99  70949.670389   50              2.0     0.0   1.0\n",
       "\n",
       "[100 rows x 5 columns]"
      ]
     },
     "metadata": {},
     "output_type": "display_data"
    }
   ],
   "source": [
    "dataset=pd.DataFrame(dataset)\n",
    "\n",
    "from sklearn.preprocessing import OneHotEncoder \n",
    "encoder= OneHotEncoder(handle_unknown='ignore')\n",
    "\n",
    "encoder_df=pd.DataFrame(encoder.fit_transform(dataset[['gender']]).toarray())\n",
    "encoder_df.columns=['Female','Male']\n",
    "\n",
    "final_df=dataset.join(encoder_df)\n",
    "final_df.drop('gender',axis=1,inplace=True)\n",
    "final_df.drop('ID',axis=1,inplace=True)\n",
    "\n",
    "display(final_df.head(100))"
   ]
  },
  {
   "cell_type": "code",
   "execution_count": 3,
   "id": "77f4545a",
   "metadata": {
    "execution": {
     "iopub.execute_input": "2022-10-06T17:39:13.120482Z",
     "iopub.status.busy": "2022-10-06T17:39:13.120053Z",
     "iopub.status.idle": "2022-10-06T17:39:13.125734Z",
     "shell.execute_reply": "2022-10-06T17:39:13.124456Z"
    },
    "papermill": {
     "duration": 0.013571,
     "end_time": "2022-10-06T17:39:13.128396",
     "exception": false,
     "start_time": "2022-10-06T17:39:13.114825",
     "status": "completed"
    },
    "tags": []
   },
   "outputs": [],
   "source": [
    "def Normalize(data):\n",
    "    return (data-np.min(data))/(np.max(data)-np.min(data))"
   ]
  },
  {
   "cell_type": "code",
   "execution_count": 4,
   "id": "3c51640f",
   "metadata": {
    "execution": {
     "iopub.execute_input": "2022-10-06T17:39:13.137797Z",
     "iopub.status.busy": "2022-10-06T17:39:13.137396Z",
     "iopub.status.idle": "2022-10-06T17:39:13.167801Z",
     "shell.execute_reply": "2022-10-06T17:39:13.166605Z"
    },
    "papermill": {
     "duration": 0.037924,
     "end_time": "2022-10-06T17:39:13.170358",
     "exception": false,
     "start_time": "2022-10-06T17:39:13.132434",
     "status": "completed"
    },
    "tags": []
   },
   "outputs": [
    {
     "data": {
      "text/html": [
       "<div>\n",
       "<style scoped>\n",
       "    .dataframe tbody tr th:only-of-type {\n",
       "        vertical-align: middle;\n",
       "    }\n",
       "\n",
       "    .dataframe tbody tr th {\n",
       "        vertical-align: top;\n",
       "    }\n",
       "\n",
       "    .dataframe thead th {\n",
       "        text-align: right;\n",
       "    }\n",
       "</style>\n",
       "<table border=\"1\" class=\"dataframe\">\n",
       "  <thead>\n",
       "    <tr style=\"text-align: right;\">\n",
       "      <th></th>\n",
       "      <th>income</th>\n",
       "      <th>age</th>\n",
       "      <th>education_level</th>\n",
       "      <th>Female</th>\n",
       "      <th>Male</th>\n",
       "    </tr>\n",
       "  </thead>\n",
       "  <tbody>\n",
       "    <tr>\n",
       "      <th>0</th>\n",
       "      <td>0.264552</td>\n",
       "      <td>0.529412</td>\n",
       "      <td>0.666667</td>\n",
       "      <td>0.0</td>\n",
       "      <td>1.0</td>\n",
       "    </tr>\n",
       "    <tr>\n",
       "      <th>1</th>\n",
       "      <td>0.251850</td>\n",
       "      <td>0.235294</td>\n",
       "      <td>0.666667</td>\n",
       "      <td>0.0</td>\n",
       "      <td>1.0</td>\n",
       "    </tr>\n",
       "    <tr>\n",
       "      <th>2</th>\n",
       "      <td>0.250076</td>\n",
       "      <td>0.078431</td>\n",
       "      <td>0.666667</td>\n",
       "      <td>0.0</td>\n",
       "      <td>1.0</td>\n",
       "    </tr>\n",
       "    <tr>\n",
       "      <th>3</th>\n",
       "      <td>0.246174</td>\n",
       "      <td>0.352941</td>\n",
       "      <td>0.666667</td>\n",
       "      <td>0.0</td>\n",
       "      <td>1.0</td>\n",
       "    </tr>\n",
       "    <tr>\n",
       "      <th>4</th>\n",
       "      <td>0.238931</td>\n",
       "      <td>0.647059</td>\n",
       "      <td>0.333333</td>\n",
       "      <td>0.0</td>\n",
       "      <td>1.0</td>\n",
       "    </tr>\n",
       "  </tbody>\n",
       "</table>\n",
       "</div>"
      ],
      "text/plain": [
       "     income       age  education_level  Female  Male\n",
       "0  0.264552  0.529412         0.666667     0.0   1.0\n",
       "1  0.251850  0.235294         0.666667     0.0   1.0\n",
       "2  0.250076  0.078431         0.666667     0.0   1.0\n",
       "3  0.246174  0.352941         0.666667     0.0   1.0\n",
       "4  0.238931  0.647059         0.333333     0.0   1.0"
      ]
     },
     "metadata": {},
     "output_type": "display_data"
    },
    {
     "data": {
      "text/plain": [
       "(100000, 5)"
      ]
     },
     "metadata": {},
     "output_type": "display_data"
    }
   ],
   "source": [
    "final_df=Normalize(final_df)\n",
    "\n",
    "display(final_df.head())\n",
    "display(final_df.shape)"
   ]
  },
  {
   "cell_type": "code",
   "execution_count": 5,
   "id": "ff80b1a7",
   "metadata": {
    "execution": {
     "iopub.execute_input": "2022-10-06T17:39:13.180275Z",
     "iopub.status.busy": "2022-10-06T17:39:13.179862Z",
     "iopub.status.idle": "2022-10-06T17:39:13.228552Z",
     "shell.execute_reply": "2022-10-06T17:39:13.227292Z"
    },
    "papermill": {
     "duration": 0.057303,
     "end_time": "2022-10-06T17:39:13.231823",
     "exception": false,
     "start_time": "2022-10-06T17:39:13.174520",
     "status": "completed"
    },
    "tags": []
   },
   "outputs": [],
   "source": [
    "df_train=final_df.sample(frac=0.7,random_state=0)\n",
    "df_valid=final_df.drop(df_train.index)\n",
    "x_train=df_train.drop('income',axis=1)\n",
    "x_valid=df_valid.drop('income',axis=1)\n",
    "y_train=df_train['income']\n",
    "y_valid=df_valid['income']\n",
    "input_shape=[4]"
   ]
  },
  {
   "cell_type": "code",
   "execution_count": 6,
   "id": "469dc3cf",
   "metadata": {
    "execution": {
     "iopub.execute_input": "2022-10-06T17:39:13.242170Z",
     "iopub.status.busy": "2022-10-06T17:39:13.241737Z",
     "iopub.status.idle": "2022-10-06T17:39:20.259094Z",
     "shell.execute_reply": "2022-10-06T17:39:20.257975Z"
    },
    "papermill": {
     "duration": 7.026044,
     "end_time": "2022-10-06T17:39:20.262023",
     "exception": false,
     "start_time": "2022-10-06T17:39:13.235979",
     "status": "completed"
    },
    "tags": []
   },
   "outputs": [
    {
     "name": "stderr",
     "output_type": "stream",
     "text": [
      "2022-10-06 17:39:20.181978: I tensorflow/core/common_runtime/process_util.cc:146] Creating new thread pool with default inter op setting: 2. Tune using inter_op_parallelism_threads for best performance.\n"
     ]
    }
   ],
   "source": [
    "from tensorflow import keras \n",
    "from tensorflow.keras import layers \n",
    "\n",
    "model=keras.Sequential(\n",
    "    [\n",
    "        layers.Dense(3,activation='relu',input_shape=input_shape),\n",
    "        layers.Dense(3,activation='relu'),\n",
    "        layers.Dense(1)\n",
    "    ]\n",
    ")"
   ]
  },
  {
   "cell_type": "code",
   "execution_count": 7,
   "id": "2833a424",
   "metadata": {
    "execution": {
     "iopub.execute_input": "2022-10-06T17:39:20.271900Z",
     "iopub.status.busy": "2022-10-06T17:39:20.271424Z",
     "iopub.status.idle": "2022-10-06T17:39:20.285087Z",
     "shell.execute_reply": "2022-10-06T17:39:20.283826Z"
    },
    "papermill": {
     "duration": 0.021716,
     "end_time": "2022-10-06T17:39:20.287940",
     "exception": false,
     "start_time": "2022-10-06T17:39:20.266224",
     "status": "completed"
    },
    "tags": []
   },
   "outputs": [],
   "source": [
    "model.compile(\n",
    "    optimizer='adam',\n",
    "    loss='mae'\n",
    ")"
   ]
  },
  {
   "cell_type": "code",
   "execution_count": 8,
   "id": "6947d83f",
   "metadata": {
    "execution": {
     "iopub.execute_input": "2022-10-06T17:39:20.298074Z",
     "iopub.status.busy": "2022-10-06T17:39:20.297670Z",
     "iopub.status.idle": "2022-10-06T17:39:54.099318Z",
     "shell.execute_reply": "2022-10-06T17:39:54.098338Z"
    },
    "papermill": {
     "duration": 33.809784,
     "end_time": "2022-10-06T17:39:54.101969",
     "exception": false,
     "start_time": "2022-10-06T17:39:20.292185",
     "status": "completed"
    },
    "tags": []
   },
   "outputs": [
    {
     "name": "stderr",
     "output_type": "stream",
     "text": [
      "2022-10-06 17:39:20.392614: I tensorflow/compiler/mlir/mlir_graph_optimization_pass.cc:185] None of the MLIR Optimization Passes are enabled (registered 2)\n"
     ]
    },
    {
     "name": "stdout",
     "output_type": "stream",
     "text": [
      "Epoch 1/20\n",
      "700/700 [==============================] - 2s 3ms/step - loss: 0.0328 - val_loss: 0.0307\n",
      "Epoch 2/20\n",
      "700/700 [==============================] - 1s 2ms/step - loss: 0.0306 - val_loss: 0.0306\n",
      "Epoch 3/20\n",
      "700/700 [==============================] - 2s 2ms/step - loss: 0.0306 - val_loss: 0.0307\n",
      "Epoch 4/20\n",
      "700/700 [==============================] - 2s 2ms/step - loss: 0.0306 - val_loss: 0.0306\n",
      "Epoch 5/20\n",
      "700/700 [==============================] - 2s 2ms/step - loss: 0.0306 - val_loss: 0.0307\n",
      "Epoch 6/20\n",
      "700/700 [==============================] - 2s 2ms/step - loss: 0.0306 - val_loss: 0.0306\n",
      "Epoch 7/20\n",
      "700/700 [==============================] - 2s 2ms/step - loss: 0.0306 - val_loss: 0.0306\n",
      "Epoch 8/20\n",
      "700/700 [==============================] - 2s 2ms/step - loss: 0.0306 - val_loss: 0.0306\n",
      "Epoch 9/20\n",
      "700/700 [==============================] - 2s 2ms/step - loss: 0.0306 - val_loss: 0.0306\n",
      "Epoch 10/20\n",
      "700/700 [==============================] - 2s 2ms/step - loss: 0.0306 - val_loss: 0.0306\n",
      "Epoch 11/20\n",
      "700/700 [==============================] - 2s 2ms/step - loss: 0.0306 - val_loss: 0.0307\n",
      "Epoch 12/20\n",
      "700/700 [==============================] - 2s 2ms/step - loss: 0.0306 - val_loss: 0.0306\n",
      "Epoch 13/20\n",
      "700/700 [==============================] - 2s 2ms/step - loss: 0.0306 - val_loss: 0.0306\n",
      "Epoch 14/20\n",
      "700/700 [==============================] - 2s 3ms/step - loss: 0.0306 - val_loss: 0.0306\n",
      "Epoch 15/20\n",
      "700/700 [==============================] - 2s 2ms/step - loss: 0.0306 - val_loss: 0.0306\n",
      "Epoch 16/20\n",
      "700/700 [==============================] - 2s 3ms/step - loss: 0.0306 - val_loss: 0.0306\n",
      "Epoch 17/20\n",
      "700/700 [==============================] - 2s 2ms/step - loss: 0.0306 - val_loss: 0.0307\n",
      "Epoch 18/20\n",
      "700/700 [==============================] - 2s 2ms/step - loss: 0.0306 - val_loss: 0.0307\n",
      "Epoch 19/20\n",
      "700/700 [==============================] - 2s 2ms/step - loss: 0.0306 - val_loss: 0.0306\n",
      "Epoch 20/20\n",
      "700/700 [==============================] - 2s 2ms/step - loss: 0.0306 - val_loss: 0.0306\n"
     ]
    }
   ],
   "source": [
    "history=model.fit(\n",
    "    x_train,y_train,validation_data=(x_valid,y_valid),batch_size=100,epochs=20\n",
    ")"
   ]
  },
  {
   "cell_type": "code",
   "execution_count": 9,
   "id": "4746c28f",
   "metadata": {
    "execution": {
     "iopub.execute_input": "2022-10-06T17:39:54.179092Z",
     "iopub.status.busy": "2022-10-06T17:39:54.178077Z",
     "iopub.status.idle": "2022-10-06T17:39:54.459346Z",
     "shell.execute_reply": "2022-10-06T17:39:54.457951Z"
    },
    "papermill": {
     "duration": 0.322624,
     "end_time": "2022-10-06T17:39:54.462370",
     "exception": false,
     "start_time": "2022-10-06T17:39:54.139746",
     "status": "completed"
    },
    "tags": []
   },
   "outputs": [
    {
     "name": "stdout",
     "output_type": "stream",
     "text": [
      "Min validation loss 0.03057713247835636\n"
     ]
    },
    {
     "data": {
      "image/png": "[encoded data removed]",
      "text/plain": [
       "<Figure size 432x288 with 1 Axes>"
      ]
     },
     "metadata": {
      "needs_background": "light"
     },
     "output_type": "display_data"
    }
   ],
   "source": [
    "history_df=pd.DataFrame(history.history)\n",
    "history_df.loc[5:,['loss','val_loss']].plot()\n",
    "print(\"Min validation loss {}\".format(history_df['val_loss'].min()))"
   ]
  }
 ],
 "metadata": {
  "kernelspec": {
   "display_name": "Python 3",
   "language": "python",
   "name": "python3"
  },
  "language_info": {
   "codemirror_mode": {
    "name": "ipython",
    "version": 3
   },
   "file_extension": ".py",
   "mimetype": "text/x-python",
   "name": "python",
   "nbconvert_exporter": "python",
   "pygments_lexer": "ipython3",
   "version": "3.7.12"
  },
  "papermill": {
   "default_parameters": {},
   "duration": 55.305021,
   "end_time": "2022-10-06T17:39:57.268863",
   "environment_variables": {},
   "exception": null,
   "input_path": "__notebook__.ipynb",
   "output_path": "__notebook__.ipynb",
   "parameters": {},
   "start_time": "2022-10-06T17:39:01.963842",
   "version": "2.3.4"
  }
 },
 "nbformat": 4,
 "nbformat_minor": 5
}
